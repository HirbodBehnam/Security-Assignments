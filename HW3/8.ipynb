{
 "cells": [
  {
   "cell_type": "markdown",
   "metadata": {},
   "source": [
    "Data and Network Security HW3 Question 8\n",
    "\n",
    "Hirbod Behnam 99171333"
   ]
  },
  {
   "cell_type": "markdown",
   "metadata": {},
   "source": [
    "<div dir='rtl'>\n",
    "در ابتدا ما کتابخانه‌های مورد نیاز تمرین را ایمپورت می‌کنیم.\n",
    "</div>"
   ]
  },
  {
   "cell_type": "code",
   "execution_count": 1,
   "metadata": {},
   "outputs": [],
   "source": [
    "from Crypto.PublicKey import RSA\n",
    "from Crypto.Cipher import AES, PKCS1_OAEP\n",
    "from Crypto.Random import get_random_bytes\n",
    "from Crypto.Util.Padding import pad, unpad\n",
    "import random\n",
    "import math"
   ]
  },
  {
   "cell_type": "markdown",
   "metadata": {},
   "source": [
    "<div dir='rtl'>\n",
    "در ادامه کاری که می‌کنیم این است که دو کلید برای هر دو طرف می‌سازیم. من مثل همه‌ی داکیونتیشن‌های امنیتی از نام‌های آلیس و باب استفاده می‌کنم.\n",
    "</div>"
   ]
  },
  {
   "cell_type": "code",
   "execution_count": 2,
   "metadata": {},
   "outputs": [],
   "source": [
    "alice_private_key = RSA.generate(2048)\n",
    "alice_public_key = alice_private_key.publickey()\n",
    "bob_private_key = RSA.generate(2048)\n",
    "bob_public_key = bob_private_key.publickey()"
   ]
  },
  {
   "cell_type": "markdown",
   "metadata": {},
   "source": [
    "<div dir='rtl'>\n",
    "در ادامه هر فرد اسم خودش را رمز می‌کند و برای آن یکی فرد می‌فرستد.\n",
    "</div>"
   ]
  },
  {
   "cell_type": "code",
   "execution_count": 3,
   "metadata": {},
   "outputs": [
    {
     "name": "stdout",
     "output_type": "stream",
     "text": [
      "Alice sent b'G\\x03\\xc1\\xd0}\\xdb\\x10\\xb6\\xca\\xf7\\x94\\xb0\\xf5\\x9dh\\xcf\\xcb7\\x8d\\xbe\\x0f\\x90\\x1a\\xbf\\x9f\"\\xc2\\x8a\\xb5\\'\\xc8y\\x0e\\x86\\xf1\\xb8\\xb2\\xe3K\\x14\\x1c\\xbd\\'\\x96\\xf7\\x89\\x0f\\xe0\\xd8&Z=]\\x82\\x88A\\xc1\\x8erWK\\x8d\\xfcd\\xf92\\x9d5(yG\\xbaw\\xf9\\xd6\\xb8\\xfc\\x87\\x97\\x17\\x86\\xfcTai\\xb3\\x84\\n\\xcc~\\xd5\\xaa\\xe7\\xf7T\\xd4K7x\\x9a\\x07\\x93\\xb3\\x16\\xaa\\xa2rQ@^L\\'4O\\x8c\\xa6\\x83\\xcdw\\xc33N\\xb87\\r\\xef\"?\\x01K\\x90\\x0b6\\xb3\\xa4_[\\xf5\"~\\x87\\x96\\xee\\xf0\\xda@\"\\xe1\\x07nK|YI\\x01\\x96\\xfbNp\\x8f\\xb8\\xe6m\\xf9w\\xf2\\x91\\xbfyxDB\\x90\\x14\\xf7\\x0e\\x14\\ta\\xc5\\x13\\xcf\\xc3sl\\xd4\\xb2\\xe9R\\xba:@\\x1e-H\\xa8\\x92\\x8f=\\x85\\xcd\\xb3\\x94\\xe4Em|\\x060\\xe8\\xca\\xd6\\x85\\x82\\x9d3\\x88\\xf6A\\x1cS\\xe3\\x12h\\x05*\\xe3sU\\x89oX\\xcc\\x8f{\\xa7\\xd3\\xd7\\xa8\\xc0\\x87\\xb6\\x06=N\\xea\\xe6/8\\x8f\\xbc^\\xa4\\xc5\\xd6)' to Bob\n",
      "Bob got 'b'Alice'' from Alice\n",
      "Bob sent b'G\\x03\\xc1\\xd0}\\xdb\\x10\\xb6\\xca\\xf7\\x94\\xb0\\xf5\\x9dh\\xcf\\xcb7\\x8d\\xbe\\x0f\\x90\\x1a\\xbf\\x9f\"\\xc2\\x8a\\xb5\\'\\xc8y\\x0e\\x86\\xf1\\xb8\\xb2\\xe3K\\x14\\x1c\\xbd\\'\\x96\\xf7\\x89\\x0f\\xe0\\xd8&Z=]\\x82\\x88A\\xc1\\x8erWK\\x8d\\xfcd\\xf92\\x9d5(yG\\xbaw\\xf9\\xd6\\xb8\\xfc\\x87\\x97\\x17\\x86\\xfcTai\\xb3\\x84\\n\\xcc~\\xd5\\xaa\\xe7\\xf7T\\xd4K7x\\x9a\\x07\\x93\\xb3\\x16\\xaa\\xa2rQ@^L\\'4O\\x8c\\xa6\\x83\\xcdw\\xc33N\\xb87\\r\\xef\"?\\x01K\\x90\\x0b6\\xb3\\xa4_[\\xf5\"~\\x87\\x96\\xee\\xf0\\xda@\"\\xe1\\x07nK|YI\\x01\\x96\\xfbNp\\x8f\\xb8\\xe6m\\xf9w\\xf2\\x91\\xbfyxDB\\x90\\x14\\xf7\\x0e\\x14\\ta\\xc5\\x13\\xcf\\xc3sl\\xd4\\xb2\\xe9R\\xba:@\\x1e-H\\xa8\\x92\\x8f=\\x85\\xcd\\xb3\\x94\\xe4Em|\\x060\\xe8\\xca\\xd6\\x85\\x82\\x9d3\\x88\\xf6A\\x1cS\\xe3\\x12h\\x05*\\xe3sU\\x89oX\\xcc\\x8f{\\xa7\\xd3\\xd7\\xa8\\xc0\\x87\\xb6\\x06=N\\xea\\xe6/8\\x8f\\xbc^\\xa4\\xc5\\xd6)' to Alice\n",
      "Alice got 'b'Bob'' from Bob\n"
     ]
    }
   ],
   "source": [
    "# Alice sends her name to Bob with his public key\n",
    "alice_hello_message = PKCS1_OAEP.new(bob_public_key).encrypt(b'Alice')\n",
    "print(f\"Alice sent {alice_hello_message} to Bob\")\n",
    "bob_decrypted_message = PKCS1_OAEP.new(bob_private_key).decrypt(alice_hello_message)\n",
    "print(f\"Bob got '{bob_decrypted_message}' from Alice\")\n",
    "# Bob sends his name to Alice with her public key\n",
    "bob_hello_message = PKCS1_OAEP.new(alice_public_key).encrypt(b'Bob')\n",
    "print(f\"Bob sent {alice_hello_message} to Alice\")\n",
    "alice_decrypted_message = PKCS1_OAEP.new(alice_private_key).decrypt(bob_hello_message)\n",
    "print(f\"Alice got '{alice_decrypted_message}' from Bob\")"
   ]
  },
  {
   "cell_type": "markdown",
   "metadata": {},
   "source": [
    "<div dir='rtl'>\n",
    "حال همان طور که گفته شده در تمرین، آلیس یک عدد تصادفی می‌سازد و آن‌ را برای باب می‌فرستد. اما نکته‌ای که هست این است در قسمت به توان رساندن بدون رمزگشایی است. عملا توابع مربوط به\n",
    "PKCS1_OAEP\n",
    "یک نوع\n",
    "padding\n",
    "درست می‌کنند که بایت‌های دیتا را تبدیل به عدد کنند. اما در این قسمت ما واقعا با خود اعداد کار داریم.\n",
    "از این جهت دو تابع با توجه به ویکیپیدا نوشتم که رمزنگاری و رمزگشایی\n",
    "RSA\n",
    "را بر روی یک عدد انجام دهند که در زیر مشاهده می‌کنید.\n",
    "</div>"
   ]
  },
  {
   "cell_type": "code",
   "execution_count": 4,
   "metadata": {},
   "outputs": [],
   "source": [
    "# Encrypt just a number\n",
    "def rsa_encrypt_number(data: int, key: RSA.RsaKey) -> int:\n",
    "    return pow(data, key.e, key.n)\n",
    "\n",
    "# Decrypt just a number\n",
    "def rsa_decrypt_number(data: int, key: RSA.RsaKey) -> int:\n",
    "    return pow(data, key.d, key.n)"
   ]
  },
  {
   "cell_type": "markdown",
   "metadata": {},
   "source": [
    "<div dir='rtl'>\n",
    "نکته‌ای که در اینجا مهم است این است که اگر به ویکپیدا دقت کنید متوجه می‌شوید که رمزنگاری برابر است با به توان رساندن پیام به توان\n",
    "e\n",
    "و رمزگشایی به توان رساندن آن عدد به\n",
    "d\n",
    "است. حال خاصیت ریاضی زیر را در نظر بگیرید:\n",
    "</div>"
   ]
  },
  {
   "cell_type": "markdown",
   "metadata": {},
   "source": [
    "$$\n",
    "x^{de} = x \\mod n \\\\\n",
    "((a^e)^d)^b = ((a^b)^e)^d = a^b \\mod n\n",
    "$$"
   ]
  },
  {
   "cell_type": "markdown",
   "metadata": {},
   "source": [
    "<div dir='rtl'>\n",
    "همان طور که مشاهده می‌شود در صورتی که\n",
    "a\n",
    "را به توان\n",
    "e\n",
    "برسانیم (رمزگذاری کنیم) و سپس آن را به توان\n",
    "b\n",
    "برسانیم و در نهایت آن را به توان\n",
    "d\n",
    "برسانیم عملا همان\n",
    "a به توان b\n",
    "بدست می‌آید که در نهایت با لگاریتم می‌توان\n",
    "b\n",
    "را بدست آورد.\n",
    "</div>"
   ]
  },
  {
   "cell_type": "code",
   "execution_count": 5,
   "metadata": {},
   "outputs": [
    {
     "name": "stdout",
     "output_type": "stream",
     "text": [
      "Alice sent 6067682428421557346287813692880393964125774570580837627084088765240316832476650319361970552399539466729835593015513044753107446496439328945955731148644735773307298678982693918658540671746417662563441675292800482052156466971355908988741481635474403107973096808693572960586039338951882521025017357729476909156536480630093291642768539661043618124548462823492511396378782944729580813046992558625292544838420731533495483411686591942911487401988888305379972211329958399376637122956910056030530347013986576393799985727939234821551149747490118162570101418108533355965849940597934179427378817295660203384166337114333864462987 to Bob\n",
      "Bob sent back '461977890136789267875355709926044493130198486917238758600730450933308843877106189782184739137918449332223855439182641331565745077647861721787243163139386530154428062780298788604429698234838843977858541787226088917906312812689852491216920105371094602639961332241536203381465104060008522918347317244407159969563245222596782711971641941388569727692494692683866725083649779626428651665019630817685846714045007137143716054362361506185469926229080288346220556003944221504346947599601893632646318658606356268191780570384851078460045269785672752192859767973273501170221557080037372764775210452662942659964664006009349717303' (his power was 87)\n"
     ]
    }
   ],
   "source": [
    "alice_random_number = random.randint(10, 100)\n",
    "alice_encrypted_number = rsa_encrypt_number(alice_random_number, alice_public_key)\n",
    "print(f\"Alice sent {alice_encrypted_number} to Bob\")\n",
    "bob_power = random.randint(10, 100)\n",
    "bob_powered_number = pow(alice_encrypted_number, bob_power, alice_public_key.n)\n",
    "print(f\"Bob sent back '{bob_powered_number}' (his power was {bob_power})\")"
   ]
  },
  {
   "cell_type": "code",
   "execution_count": 6,
   "metadata": {},
   "outputs": [
    {
     "name": "stdout",
     "output_type": "stream",
     "text": [
      "Bob power was 87\n"
     ]
    }
   ],
   "source": [
    "bob_power = rsa_decrypt_number(bob_powered_number, alice_private_key)\n",
    "bob_power = int(math.log(bob_power, alice_random_number))\n",
    "print(f\"Bob power was {bob_power}\")"
   ]
  },
  {
   "cell_type": "markdown",
   "metadata": {},
   "source": [
    "<div dir='rtl'>\n",
    "حال کاری که می‌کنیم این است که توان باب را برای او می‌فرستیم\n",
    "(البته به صورت رمزشده با کلید خود باب)\n",
    "</div>"
   ]
  },
  {
   "cell_type": "code",
   "execution_count": 7,
   "metadata": {},
   "outputs": [
    {
     "name": "stdout",
     "output_type": "stream",
     "text": [
      "Alice sent b'6A\\xee\"\\x1d\\xae\\xea\\xeb\\xd0\\x90\\xf7\\xb4*\\xe6\\x9d\\xfdA\\xf9\\x97\\xeb\\x13V\\xf3\\x8a\\xcf\\x80\\x88tx~\\xdc\\x0c\\xd8\\'\\x0f\\xc23\\xd2\\xe0:\\xe8\\xf1H\\x0e\\x88\\x9816k\\x81p\\xba\\xdc=\\x91\\xcc\\x18\\xce\\xb6d\\xc9\\x947\\x05\\xf1D\\x9e\\x92\\xd0\\xf2\\x00\\x97\\x1c5\\xf9\\xee*\\xe0\\x98DT\\xcfI\\xe3C\\x96\\x8f\\xd2\\xaf6\\xe2\\x7f\\xf5MJ\\x1b\\xfa\\xf0\\x1b\\x94\\xe39\\xd4\\xce\\xea>\\xde\\xa8\\x8a\\x14\\xcb&\\x8d8\\x16\\x12\\xa0\\xe4\\x88\\xf2Z\\xfc\\x90\\x10&\\xe6\\x9eG[\\xf65\\x9d\\xd6s#\\x89U\\x06\\xba\\xdd\\x83\\xb8\\x1a\\x8a\\xa9}U~\\x91+\\xe9\\x17i@\\x87O\\xd7\\x1d\\xda\\xc7\\x0f\\xa9\\xd6\\xa2\\x0e~Y\\xf6\\xe2\\xb8\\xca\\xdf\\x876D\\x15\\xcf\\x94T\\x84\\xb5a\\x8e\\x16NO\\x04G#7C \\xd6\\x94\\xae\\xcb(\\xc5)$%@V\\x05Bn\\x07\\xc0\\xec\\x84x%\\xdd\\x9eD\\xc5!\\x05>\\x03\\x87\\xc1\\xd7\\\\\\x0b\\x1b\\xf0\\xf6}\\xd4\\x7f\\xeb\\xfa\\xcb3R8zB\\xf1\\xb5\\xc3\\xb0F\\x98\\xdb\\x1a\\xd8\\x00\\xa0\\xc5c\\x11\\xb9\\x06\\xa5' to Bob\n",
      "Alice sent b'87' to Bob (after decryption)\n"
     ]
    }
   ],
   "source": [
    "alice_confirm_message = PKCS1_OAEP.new(bob_public_key).encrypt(str(bob_power).encode('utf-8'))\n",
    "print(f\"Alice sent {alice_confirm_message} to Bob\")\n",
    "bob_decrypted_message = PKCS1_OAEP.new(bob_private_key).decrypt(alice_confirm_message)\n",
    "print(f\"Alice sent {bob_decrypted_message} to Bob (after decryption)\")"
   ]
  },
  {
   "cell_type": "markdown",
   "metadata": {},
   "source": [
    "<div dir='rtl'>\n",
    "همان طور که مشاهده می‌کنید هر دو فرد به عدد یکسانی رسیدند. در ادامه باب یک کلید می‌سازد و برای آلیس می‌فرستد.\n",
    "</div>"
   ]
  },
  {
   "cell_type": "code",
   "execution_count": 8,
   "metadata": {},
   "outputs": [
    {
     "name": "stdout",
     "output_type": "stream",
     "text": [
      "Encoded session key is b'\\x8f\\xb7.\\x7f,)\\xd3!\\xd3\\x02\\x01\\xc4\\x1f\\xa6\\xa4\\xf4\\xc3\\xa3\\xec\\x0eq\\x19\\xe6\\xe3\\xc6\\x8c\\xcdt\\x9f\\x80\\xa8\\xddJ,\\xfd.\\xf0k\\xb1\\xae\\xc3W\\xdfkc<[\\x97\\xa7C\\xb5q1I\\xfe\\xc6\\x9b\\x013\\xf9\\xbd\\x11e8&W\\xdc\\x92\\xb3\\xed\\xaf\\xaf\\x1c4i5\\xea\\x9e\\xb9_\\'i\\x15\\x87\\xa4\\xe6\\x89\\xad,O\\xd9t]\\xfc\\xa4\\xa7L4\\xae7\\xab\\n+%\\x81g9\\x17u\\x01\\x0es\\xa4\\xa9\\x94\\xed\\x0e\\xc6v\\xe3;\\xb2\\x81\\x05U\\xfeI\\x11\\xe8\\xc2\\xaa\\'\\xc9\\xf4\\x99\\x9fC\\xda\\x91\\xc4\\x90\\xb6\\xf5-\\xf8\\xe4\\xcc\\xc5\\x1c\\xd5i\\xa6-\\x9e^@V\\xd6\\x97f=\\xfe|\\xff\\xa0\\x0f\\x90J\\x03\\xe4\\xa7\\xce?J\\x82\\xec\\xa9\\xc6T\\x9f(\\xb67\\xddWiz\\xc8t\\n\\xa5\\xfc\\xe93e4\\xbft\\x9b\\xc0<C\\x15om\\xd92%Q\\xb0\\xf2\\xdeyG(\\x84\\x02.F\\x04\\xdd\\x14\\xfb~\\xab$P\\xb8\\xf8F\\x01\\x0bCrN\\xf1\\x90U\\xb7\\xd5q&\\x19$O\"\\xd9\\xd9\\x02;%+\\xa0\\xfedq'\n",
      "Alice has b'\\xefn\\xff(5\\xc8\\x12S\\xfd\\xf8\\x9b\\xa3\\x99\\xd9E\\xafn\\xaaR5\\x86\\xf2X\\r\\x93-\\xed\\x8d\\xe9\\xd4\\x95\\x8c' and Bob has b'\\xefn\\xff(5\\xc8\\x12S\\xfd\\xf8\\x9b\\xa3\\x99\\xd9E\\xafn\\xaaR5\\x86\\xf2X\\r\\x93-\\xed\\x8d\\xe9\\xd4\\x95\\x8c'\n"
     ]
    }
   ],
   "source": [
    "session_key_bob = get_random_bytes(32)\n",
    "iv_bob = get_random_bytes(16)\n",
    "session_key_encrypted = PKCS1_OAEP.new(alice_public_key).encrypt(session_key_bob + iv_bob)\n",
    "print(f\"Encoded session key is {session_key_encrypted}\")\n",
    "session_key_alice = PKCS1_OAEP.new(alice_private_key).decrypt(session_key_encrypted)\n",
    "iv_alice = session_key_alice[-16:]\n",
    "session_key_alice = session_key_alice[:32]\n",
    "print(f\"Alice has {session_key_alice} and Bob has {session_key_bob}\")"
   ]
  },
  {
   "cell_type": "markdown",
   "metadata": {},
   "source": [
    "<div dir='rtl'>\n",
    "حال هر دو نفر یک کلید یکسان دارند و با\n",
    "AES\n",
    "پیامی را رمز می‌کنیم.\n",
    "</div>"
   ]
  },
  {
   "cell_type": "code",
   "execution_count": 17,
   "metadata": {},
   "outputs": [
    {
     "name": "stdout",
     "output_type": "stream",
     "text": [
      "Alice has sent b'\\x84Z\\xd33\\xbb\\xae\\xc9#6\\xaam\\xa4\\x12a\\xb1D'\n",
      "Bob decrypted it as b'Salaam!'\n"
     ]
    }
   ],
   "source": [
    "alice_cipher = AES.new(session_key_alice, AES.MODE_CBC, iv_alice)\n",
    "bob_cipher = AES.new(session_key_bob, AES.MODE_CBC, iv_bob)\n",
    "alice_encrypted = alice_cipher.encrypt(pad(b\"Salaam!\", 16))\n",
    "print(f\"Alice has sent {alice_encrypted}\")\n",
    "print(f\"Bob decrypted it as {unpad(bob_cipher.decrypt(alice_encrypted), 16)}\")"
   ]
  }
 ],
 "metadata": {
  "kernelspec": {
   "display_name": "Python 3",
   "language": "python",
   "name": "python3"
  },
  "language_info": {
   "codemirror_mode": {
    "name": "ipython",
    "version": 3
   },
   "file_extension": ".py",
   "mimetype": "text/x-python",
   "name": "python",
   "nbconvert_exporter": "python",
   "pygments_lexer": "ipython3",
   "version": "3.10.12"
  }
 },
 "nbformat": 4,
 "nbformat_minor": 2
}
